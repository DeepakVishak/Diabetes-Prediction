{
  "nbformat": 4,
  "nbformat_minor": 0,
  "metadata": {
    "colab": {
      "provenance": []
    },
    "kernelspec": {
      "name": "python3",
      "display_name": "Python 3"
    },
    "language_info": {
      "name": "python"
    }
  },
  "cells": [
    {
      "cell_type": "code",
      "execution_count": 1,
      "metadata": {
        "colab": {
          "base_uri": "https://localhost:8080/"
        },
        "id": "41DvU0J4PiGa",
        "outputId": "4ff5106c-f4ab-4424-a28e-59eed49876e0"
      },
      "outputs": [
        {
          "output_type": "stream",
          "name": "stdout",
          "text": [
            "Mounted at /content/drive\n"
          ]
        }
      ],
      "source": [
        "from google.colab import drive\n",
        "drive.mount('/content/drive',force_remount=True)"
      ]
    },
    {
      "cell_type": "code",
      "source": [
        "import joblib\n",
        "\n",
        "scaler_upscaled = joblib.load(r'/content/drive/MyDrive/Diabetes/Diabetes_models/scaler_after_upscale.pkl')\n",
        "vc = joblib.load(r'/content/drive/MyDrive/Diabetes/Diabetes_models/vc.pkl')\n",
        "bbc_upscale = joblib.load(r'/content/drive/MyDrive/Diabetes/Diabetes_models/bbc_after_upscale.pkl')"
      ],
      "metadata": {
        "id": "Dc8JrDJsQt2p"
      },
      "execution_count": 13,
      "outputs": []
    },
    {
      "cell_type": "markdown",
      "source": [
        "['age', 'hypertension', 'heart_disease', 'bmi', 'HbA1c_level',\n",
        "       'blood_glucose_level', 'gender_Female', 'gender_Male', 'gender_Other',\n",
        "       'smoking_history_No Info', 'smoking_history_current',\n",
        "       'smoking_history_ever', 'smoking_history_former',\n",
        "       'smoking_history_never', 'smoking_history_not current']\n",
        "\n",
        "[54.0,0,0,34.32,6.5,200,0,1,0,0,0,1,0,0,0]  = yes\n",
        "\n",
        "[24.0,0,0,35.42,4.0,100,1,0,0,0,0,0,0,1,0] = no"
      ],
      "metadata": {
        "id": "Dd8iMyiYSu_w"
      }
    },
    {
      "cell_type": "code",
      "source": [
        "import numpy as np\n",
        "features = [24.0,0,0,35.42,4.0,100,1,0,0,0,0,0,0,1,0]\n",
        "test = [np.array(features)]"
      ],
      "metadata": {
        "id": "7BND4OvzRdvm"
      },
      "execution_count": 8,
      "outputs": []
    },
    {
      "cell_type": "code",
      "source": [
        "vc.predict(scaler_upscaled.transform(test))"
      ],
      "metadata": {
        "colab": {
          "base_uri": "https://localhost:8080/"
        },
        "id": "AdGDkSijRIFI",
        "outputId": "b8338241-4a6d-4727-d052-a6eccf016fb0"
      },
      "execution_count": 9,
      "outputs": [
        {
          "output_type": "stream",
          "name": "stderr",
          "text": [
            "/usr/local/lib/python3.10/dist-packages/sklearn/base.py:439: UserWarning: X does not have valid feature names, but StandardScaler was fitted with feature names\n",
            "  warnings.warn(\n"
          ]
        },
        {
          "output_type": "execute_result",
          "data": {
            "text/plain": [
              "array([0])"
            ]
          },
          "metadata": {},
          "execution_count": 9
        }
      ]
    },
    {
      "cell_type": "code",
      "source": [
        "scaler_upscaled.transform(test)"
      ],
      "metadata": {
        "colab": {
          "base_uri": "https://localhost:8080/"
        },
        "id": "w6TqFy8yWT7f",
        "outputId": "eb61b750-0183-4d78-a100-e62e169785cc"
      },
      "execution_count": 10,
      "outputs": [
        {
          "output_type": "stream",
          "name": "stderr",
          "text": [
            "/usr/local/lib/python3.10/dist-packages/sklearn/base.py:439: UserWarning: X does not have valid feature names, but StandardScaler was fitted with feature names\n",
            "  warnings.warn(\n"
          ]
        },
        {
          "output_type": "execute_result",
          "data": {
            "text/plain": [
              "array([[-1.23161046, -0.4270291 , -0.31339312,  0.7985386 , -1.69087388,\n",
              "        -1.11481121,  0.89081702, -0.89063944, -0.00991818, -0.61333338,\n",
              "        -0.33688408, -0.22249606, -0.39552743,  1.30434135, -0.27872521]])"
            ]
          },
          "metadata": {},
          "execution_count": 10
        }
      ]
    },
    {
      "cell_type": "code",
      "source": [
        "bbc_upscale.predict(scaler_upscaled.transform(test)) "
      ],
      "metadata": {
        "colab": {
          "base_uri": "https://localhost:8080/"
        },
        "id": "9bRR-KS9WdFK",
        "outputId": "6dcf2280-57c7-4a4e-b207-aaf234a8c86a"
      },
      "execution_count": 14,
      "outputs": [
        {
          "output_type": "stream",
          "name": "stderr",
          "text": [
            "/usr/local/lib/python3.10/dist-packages/sklearn/base.py:439: UserWarning: X does not have valid feature names, but StandardScaler was fitted with feature names\n",
            "  warnings.warn(\n"
          ]
        },
        {
          "output_type": "execute_result",
          "data": {
            "text/plain": [
              "array([0])"
            ]
          },
          "metadata": {},
          "execution_count": 14
        }
      ]
    },
    {
      "cell_type": "code",
      "source": [
        "scaler_noupscaled = joblib.load(r'/content/drive/MyDrive/Diabetes/Diabetes_models/scaler_no_upscale.pkl')\n",
        "bbc_noupscale = joblib.load(r'/content/drive/MyDrive/Diabetes/Diabetes_models/bbc_no_upscale.pkl')"
      ],
      "metadata": {
        "id": "t9fu1aniXmVk"
      },
      "execution_count": 15,
      "outputs": []
    },
    {
      "cell_type": "code",
      "source": [
        "bbc_noupscale.predict(scaler_noupscaled.transform(test)) "
      ],
      "metadata": {
        "colab": {
          "base_uri": "https://localhost:8080/"
        },
        "id": "WvryU0icZb3s",
        "outputId": "f7832570-9e96-46d6-c2b8-4c88ed05cd75"
      },
      "execution_count": 16,
      "outputs": [
        {
          "output_type": "stream",
          "name": "stderr",
          "text": [
            "/usr/local/lib/python3.10/dist-packages/sklearn/base.py:439: UserWarning: X does not have valid feature names, but StandardScaler was fitted with feature names\n",
            "  warnings.warn(\n"
          ]
        },
        {
          "output_type": "execute_result",
          "data": {
            "text/plain": [
              "array([0])"
            ]
          },
          "metadata": {},
          "execution_count": 16
        }
      ]
    },
    {
      "cell_type": "code",
      "source": [],
      "metadata": {
        "id": "JB5GA1j-Zoxb"
      },
      "execution_count": null,
      "outputs": []
    }
  ]
}